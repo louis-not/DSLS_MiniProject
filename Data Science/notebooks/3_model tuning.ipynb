{
 "cells": [
  {
   "cell_type": "code",
   "execution_count": 2,
   "id": "e876a0a9",
   "metadata": {},
   "outputs": [],
   "source": [
    "import pandas as pd\n",
    "import seaborn as sns\n",
    "import matplotlib.pyplot as plt\n",
    "import numpy as np\n",
    "import seaborn as sns\n",
    "import warnings\n",
    "warnings.filterwarnings(\"ignore\")\n",
    "\n",
    "import io\n",
    "import pyarrow.parquet as pq\n",
    "import pickle\n",
    "\n",
    "from sklearn.metrics import mean_absolute_percentage_error, mean_absolute_error\n",
    "from statsmodels.tsa.statespace.sarimax import SARIMAX\n",
    "from statsmodels.tsa.arima.model import ARIMA\n",
    "\n",
    "from statistics import mean\n",
    "# Optmization\n",
    "from bayes_opt import BayesianOptimization"
   ]
  },
  {
   "cell_type": "markdown",
   "id": "81a4bc3e",
   "metadata": {},
   "source": [
    "### Load Data"
   ]
  },
  {
   "cell_type": "code",
   "execution_count": 3,
   "id": "48a84c9a",
   "metadata": {},
   "outputs": [],
   "source": [
    "PATH_DATA='D:/DSLS/Data Science/data/raw/'\n",
    "filename_store='/preprocessed_dataset.pkl'\n",
    "filename_valid='/validation_dataset.pkl'\n",
    "filename_rec = '/recurring_dataset.pkl'\n",
    "\n",
    "with open(PATH_DATA+filename_store, 'rb') as f:\n",
    "  df = pickle.load(f)\n",
    "\n",
    "with open(PATH_DATA+filename_valid, 'rb') as f:\n",
    "  df_val = pickle.load(f)\n",
    "\n",
    "with open(PATH_DATA+filename_rec, 'rb') as f:\n",
    "  df_rec = pickle.load(f)"
   ]
  },
  {
   "cell_type": "code",
   "execution_count": 10,
   "id": "2a17bef4",
   "metadata": {},
   "outputs": [],
   "source": [
    "streets = ['Abdul Wahab',\n",
    "         'Abdurrahman',\n",
    "         'Anggrek',\n",
    "         'Arah Tol Lkr Luar/TMII/Cawang',\n",
    "         'Arif Rahman Hakim']"
   ]
  },
  {
   "cell_type": "code",
   "execution_count": 11,
   "id": "da848788",
   "metadata": {},
   "outputs": [],
   "source": [
    "samples=list()\n",
    "\n",
    "for street in streets:\n",
    "    for d in range(7):\n",
    "        samples.append(df_rec[street][d])"
   ]
  },
  {
   "cell_type": "markdown",
   "id": "7c3ceb1f",
   "metadata": {},
   "source": [
    "### Hyperparameter Tuning (GRID SEARCH)"
   ]
  },
  {
   "cell_type": "code",
   "execution_count": 39,
   "id": "68e2d994",
   "metadata": {},
   "outputs": [],
   "source": [
    "def split_train_test(data):\n",
    "    train_data = data[:int(0.9*(len(data)))]\n",
    "    test_data = data[int(0.9*(len(data))):]\n",
    "    \n",
    "#     print(f\"shape of train: {train_data.shape}\")\n",
    "#     print(f\"shape of test: {test_data.shape}\")\n",
    "    \n",
    "    return train_data, test_data"
   ]
  },
  {
   "cell_type": "code",
   "execution_count": 53,
   "id": "9ca1c0a0",
   "metadata": {},
   "outputs": [],
   "source": [
    "def black_box_arima(p,d,q):\n",
    "    mape =  list()\n",
    "    \n",
    "    for sample in samples:\n",
    "        # splitting\n",
    "        train, test = split_train_test(sample)\n",
    "\n",
    "        data_train=train['median_delay']\n",
    "        data_test=test['median_delay']\n",
    "        \n",
    "        # modeling \n",
    "        y = data_train\n",
    "        ARIMAmodel = ARIMA(y, order = (int(p), int(d), int(q)))\n",
    "        ARIMAmodel = ARIMAmodel.fit()\n",
    "        \n",
    "        # predict\n",
    "        y_pred = ARIMAmodel.get_forecast(len(data_test.index))\n",
    "        y_pred_df = y_pred.conf_int(alpha = 0.1) \n",
    "        y_pred_df[\"Predictions\"] = ARIMAmodel.predict(start = y_pred_df.index[0], end = y_pred_df.index[-1])\n",
    "        y_pred_df.index = data_test.index\n",
    "        y_pred_out = y_pred_df[\"Predictions\"] \n",
    "        \n",
    "        #plot\n",
    "#         plt.figure(figsize=(12, 5))\n",
    "#         plt.plot(data_train, color='blue', label = 'Train')\n",
    "#         plt.plot(data_test, color='orange', label = 'Test')\n",
    "#         plt.plot(y_pred_out, color='green', label = 'Predictions')\n",
    "#         plt.legend()\n",
    "#         plt.show()\n",
    "        \n",
    "        mape.append(mean_absolute_percentage_error(data_test.values, y_pred_df[\"Predictions\"]))\n",
    "        \n",
    "    return mean(mape)"
   ]
  },
  {
   "cell_type": "code",
   "execution_count": 66,
   "id": "53e331f5",
   "metadata": {},
   "outputs": [
    {
     "name": "stdout",
     "output_type": "stream",
     "text": [
      "0.38835101212710915\n"
     ]
    }
   ],
   "source": [
    "train, test = split_train_test(samples[0])\n",
    "\n",
    "data_train=train['median_delay']\n",
    "data_test=test['median_delay']\n",
    "\n",
    "# modeling \n",
    "y = data_train\n",
    "mape = black_box_arima(0,1,3)\n",
    "\n",
    "print(mape)"
   ]
  },
  {
   "cell_type": "code",
   "execution_count": 73,
   "id": "ac9c1f7d",
   "metadata": {},
   "outputs": [],
   "source": [
    "param_bounds = {\n",
    "    'p':[i for i in range(5)],\n",
    "    'd':[i for i in range(5)],\n",
    "    'q':[i for i in range(5)]\n",
    "}"
   ]
  },
  {
   "cell_type": "code",
   "execution_count": null,
   "id": "ad764da7",
   "metadata": {},
   "outputs": [
    {
     "name": "stdout",
     "output_type": "stream",
     "text": [
      "  p  |  d  |  q  |  mape\n",
      "-------------------------------------------\n",
      "  0  |  0  |  0  |  Failed\n",
      "  0  |  0  |  1  |  Failed\n",
      "  0  |  0  |  2  |  Failed\n",
      "  0  |  0  |  3  |  Failed\n",
      "  0  |  0  |  4  |  Failed\n",
      "  0  |  1  |  0  |  0.524076009511157\n",
      "  0  |  1  |  1  |  0.47314669800083453\n",
      "  0  |  1  |  2  |  Failed\n",
      "  0  |  1  |  3  |  0.38835101212710915\n",
      "  0  |  1  |  4  |  Failed\n",
      "  0  |  2  |  0  |  2.8259285951711193\n",
      "  0  |  2  |  1  |  0.564643185691827\n",
      "  0  |  2  |  2  |  0.4940296682422924\n",
      "  0  |  2  |  3  |  0.4745626784706283\n",
      "  0  |  2  |  4  |  Failed\n",
      "  0  |  3  |  0  |  30.265485741901756\n",
      "  0  |  3  |  1  |  Failed\n",
      "  0  |  3  |  2  |  Failed\n",
      "  0  |  3  |  3  |  Failed\n",
      "  0  |  3  |  4  |  Failed\n",
      "  0  |  4  |  0  |  327.0448355174094\n",
      "  0  |  4  |  1  |  Failed\n",
      "  0  |  4  |  2  |  Failed\n",
      "  0  |  4  |  3  |  Failed\n",
      "  0  |  4  |  4  |  Failed\n",
      "  1  |  0  |  0  |  Failed\n",
      "  1  |  0  |  1  |  Failed\n",
      "  1  |  0  |  2  |  Failed\n",
      "  1  |  0  |  3  |  Failed\n",
      "  1  |  0  |  4  |  Failed\n",
      "  1  |  1  |  0  |  Failed\n",
      "  1  |  1  |  1  |  0.4510023095107716\n",
      "  1  |  1  |  2  |  Failed\n",
      "  1  |  1  |  3  |  0.4011944320077121\n",
      "  1  |  1  |  4  |  Failed\n",
      "  1  |  2  |  0  |  Failed\n",
      "  1  |  2  |  1  |  0.5017709378871038\n",
      "  1  |  2  |  2  |  0.46148760834167835\n",
      "  1  |  2  |  3  |  0.492784417458425\n",
      "  1  |  2  |  4  |  Failed\n",
      "  1  |  3  |  0  |  Failed\n",
      "  1  |  3  |  1  |  Failed\n",
      "  1  |  3  |  2  |  Failed\n",
      "  1  |  3  |  3  |  Failed\n",
      "  1  |  3  |  4  |  Failed\n",
      "  1  |  4  |  0  |  Failed\n",
      "  1  |  4  |  1  |  Failed\n",
      "  1  |  4  |  2  |  Failed\n",
      "  1  |  4  |  3  |  Failed\n",
      "  1  |  4  |  4  |  Failed\n",
      "  2  |  0  |  0  |  Failed\n",
      "  2  |  0  |  1  |  Failed\n",
      "  2  |  0  |  2  |  Failed\n",
      "  2  |  0  |  3  |  Failed\n",
      "  2  |  0  |  4  |  Failed\n",
      "  2  |  1  |  0  |  Failed\n",
      "  2  |  1  |  1  |  0.41310661299437546\n",
      "  2  |  1  |  2  |  Failed\n",
      "  2  |  1  |  3  |  0.4330895967707285\n",
      "  2  |  1  |  4  |  Failed\n",
      "  2  |  2  |  0  |  Failed\n",
      "  2  |  2  |  1  |  0.45237327431465446\n",
      "  2  |  2  |  2  |  0.5759396487377055\n",
      "  2  |  2  |  3  |  Failed\n",
      "  2  |  2  |  4  |  Failed\n",
      "  2  |  3  |  0  |  Failed\n",
      "  2  |  3  |  1  |  Failed\n",
      "  2  |  3  |  2  |  Failed\n",
      "  2  |  3  |  3  |  Failed\n",
      "  2  |  3  |  4  |  Failed\n",
      "  2  |  4  |  0  |  Failed\n",
      "  2  |  4  |  1  |  Failed\n",
      "  2  |  4  |  2  |  Failed\n",
      "  2  |  4  |  3  |  Failed\n",
      "  2  |  4  |  4  |  Failed\n",
      "  3  |  0  |  0  |  Failed\n",
      "  3  |  0  |  1  |  Failed\n",
      "  3  |  0  |  2  |  Failed\n",
      "  3  |  0  |  3  |  Failed\n",
      "  3  |  0  |  4  |  Failed\n",
      "  3  |  1  |  0  |  Failed\n",
      "  3  |  1  |  1  |  Failed\n",
      "  3  |  1  |  2  |  Failed\n",
      "  3  |  1  |  3  |  Failed\n",
      "  3  |  1  |  4  |  Failed\n",
      "  3  |  2  |  0  |  Failed\n",
      "  3  |  2  |  1  |  Failed\n",
      "  3  |  2  |  2  |  Failed\n",
      "  3  |  2  |  3  |  Failed\n",
      "  3  |  2  |  4  |  Failed\n",
      "  3  |  3  |  0  |  Failed\n",
      "  3  |  3  |  1  |  Failed\n",
      "  3  |  3  |  2  |  Failed\n",
      "  3  |  3  |  3  |  Failed\n",
      "  3  |  3  |  4  |  Failed\n",
      "  3  |  4  |  0  |  Failed\n"
     ]
    }
   ],
   "source": [
    "print(f\"  p  |  d  |  q  |  mape\")\n",
    "print(f\"-------------------------------------------\")\n",
    "\n",
    "for p in param_bounds['p']:\n",
    "    for d in param_bounds['q']:\n",
    "        for q in param_bounds['q']:\n",
    "            try:\n",
    "                mape = black_box_arima(p,d,q)\n",
    "            except:\n",
    "                mape ='Failed'\n",
    "                continue\n",
    "            \n",
    "            print(f\"  {p}  |  {d}  |  {q}  |  {mape}\")"
   ]
  },
  {
   "cell_type": "code",
   "execution_count": null,
   "id": "efdd837f",
   "metadata": {},
   "outputs": [],
   "source": []
  }
 ],
 "metadata": {
  "kernelspec": {
   "display_name": "Python 3 (ipykernel)",
   "language": "python",
   "name": "python3"
  },
  "language_info": {
   "codemirror_mode": {
    "name": "ipython",
    "version": 3
   },
   "file_extension": ".py",
   "mimetype": "text/x-python",
   "name": "python",
   "nbconvert_exporter": "python",
   "pygments_lexer": "ipython3",
   "version": "3.9.12"
  }
 },
 "nbformat": 4,
 "nbformat_minor": 5
}
