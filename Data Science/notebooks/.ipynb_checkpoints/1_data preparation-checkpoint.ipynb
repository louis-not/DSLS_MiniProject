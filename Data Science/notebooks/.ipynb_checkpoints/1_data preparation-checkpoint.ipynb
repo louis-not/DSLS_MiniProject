{
 "cells": [
  {
   "cell_type": "markdown",
   "metadata": {
    "tags": []
   },
   "source": [
    "# Data Preparation"
   ]
  },
  {
   "cell_type": "code",
   "execution_count": 1,
   "metadata": {},
   "outputs": [],
   "source": [
    "import pandas as pd\n",
    "import seaborn as sns\n",
    "import matplotlib.pyplot as plt\n",
    "import numpy as np\n",
    "import seaborn as sns\n",
    "import warnings\n",
    "warnings.filterwarnings(\"ignore\")"
   ]
  },
  {
   "cell_type": "markdown",
   "metadata": {},
   "source": [
    "## Load Data"
   ]
  },
  {
   "cell_type": "code",
   "execution_count": 36,
   "metadata": {},
   "outputs": [],
   "source": [
    "PATH_DATA='D:/DSLS/Data Science/data/raw/'"
   ]
  },
  {
   "cell_type": "code",
   "execution_count": 45,
   "metadata": {},
   "outputs": [],
   "source": [
    "data_jams=pd.read_csv(PATH_DATA+'aggregate_median_jams_Kota Bandung_fixed.csv', index_col=0)\n",
    "data_irregularities=pd.read_csv(PATH_DATA+'aggregate_median_irregularities_Kota Bandung.csv', index_col=0))\n",
    "data_alerts=pd.read_csv(PATH_DATA+'aggregate_alerts_Kota Bandung.csv', index_col=0))"
   ]
  },
  {
   "cell_type": "code",
   "execution_count": 56,
   "metadata": {},
   "outputs": [
    {
     "data": {
      "text/html": [
       "<div>\n",
       "<style scoped>\n",
       "    .dataframe tbody tr th:only-of-type {\n",
       "        vertical-align: middle;\n",
       "    }\n",
       "\n",
       "    .dataframe tbody tr th {\n",
       "        vertical-align: top;\n",
       "    }\n",
       "\n",
       "    .dataframe thead th {\n",
       "        text-align: right;\n",
       "    }\n",
       "</style>\n",
       "<table border=\"1\" class=\"dataframe\">\n",
       "  <thead>\n",
       "    <tr style=\"text-align: right;\">\n",
       "      <th></th>\n",
       "      <th>time</th>\n",
       "      <th>kemendagri_kabupaten_kode</th>\n",
       "      <th>kemendagri_kabupaten_nama</th>\n",
       "      <th>street</th>\n",
       "      <th>level</th>\n",
       "      <th>median_length</th>\n",
       "      <th>median_delay</th>\n",
       "      <th>median_speed_kmh</th>\n",
       "      <th>total_records</th>\n",
       "      <th>id</th>\n",
       "      <th>date</th>\n",
       "      <th>median_level</th>\n",
       "      <th>geometry</th>\n",
       "    </tr>\n",
       "  </thead>\n",
       "  <tbody>\n",
       "    <tr>\n",
       "      <th>0</th>\n",
       "      <td>2022-07-06 00:00:00.000</td>\n",
       "      <td>32.73</td>\n",
       "      <td>KOTA BANDUNG</td>\n",
       "      <td>Jenderal Ahmad Yani</td>\n",
       "      <td>4</td>\n",
       "      <td>428.0</td>\n",
       "      <td>201.5</td>\n",
       "      <td>6.29</td>\n",
       "      <td>14</td>\n",
       "      <td>33471439</td>\n",
       "      <td>2022-07-06</td>\n",
       "      <td>4.0</td>\n",
       "      <td>MULTILINESTRING ((107.622869 -6.919558, 107.62...</td>\n",
       "    </tr>\n",
       "    <tr>\n",
       "      <th>1</th>\n",
       "      <td>2022-07-06 00:00:00.000</td>\n",
       "      <td>32.73</td>\n",
       "      <td>KOTA BANDUNG</td>\n",
       "      <td>Cibaduyut Raya</td>\n",
       "      <td>5</td>\n",
       "      <td>24.0</td>\n",
       "      <td>-1.0</td>\n",
       "      <td>0.00</td>\n",
       "      <td>60</td>\n",
       "      <td>33471432</td>\n",
       "      <td>2022-07-06</td>\n",
       "      <td>5.0</td>\n",
       "      <td>MULTILINESTRING ((107.59526 -6.947213, 107.595...</td>\n",
       "    </tr>\n",
       "    <tr>\n",
       "      <th>2</th>\n",
       "      <td>2022-07-06 00:00:00.000</td>\n",
       "      <td>32.73</td>\n",
       "      <td>KOTA BANDUNG</td>\n",
       "      <td>Cidurian Selatan</td>\n",
       "      <td>2</td>\n",
       "      <td>531.0</td>\n",
       "      <td>101.5</td>\n",
       "      <td>9.07</td>\n",
       "      <td>2</td>\n",
       "      <td>33471433</td>\n",
       "      <td>2022-07-06</td>\n",
       "      <td>2.0</td>\n",
       "      <td>LINESTRING (107.652971 -6.940132, 107.653181 -...</td>\n",
       "    </tr>\n",
       "  </tbody>\n",
       "</table>\n",
       "</div>"
      ],
      "text/plain": [
       "                      time  kemendagri_kabupaten_kode  \\\n",
       "0  2022-07-06 00:00:00.000                      32.73   \n",
       "1  2022-07-06 00:00:00.000                      32.73   \n",
       "2  2022-07-06 00:00:00.000                      32.73   \n",
       "\n",
       "  kemendagri_kabupaten_nama               street  level  median_length  \\\n",
       "0              KOTA BANDUNG  Jenderal Ahmad Yani      4          428.0   \n",
       "1              KOTA BANDUNG       Cibaduyut Raya      5           24.0   \n",
       "2              KOTA BANDUNG     Cidurian Selatan      2          531.0   \n",
       "\n",
       "   median_delay  median_speed_kmh  total_records        id        date  \\\n",
       "0         201.5              6.29             14  33471439  2022-07-06   \n",
       "1          -1.0              0.00             60  33471432  2022-07-06   \n",
       "2         101.5              9.07              2  33471433  2022-07-06   \n",
       "\n",
       "   median_level                                           geometry  \n",
       "0           4.0  MULTILINESTRING ((107.622869 -6.919558, 107.62...  \n",
       "1           5.0  MULTILINESTRING ((107.59526 -6.947213, 107.595...  \n",
       "2           2.0  LINESTRING (107.652971 -6.940132, 107.653181 -...  "
      ]
     },
     "execution_count": 56,
     "metadata": {},
     "output_type": "execute_result"
    }
   ],
   "source": [
    "data_jams.head(3)"
   ]
  },
  {
   "cell_type": "code",
   "execution_count": 59,
   "metadata": {},
   "outputs": [
    {
     "data": {
      "text/plain": [
       "(301995, 13)"
      ]
     },
     "execution_count": 59,
     "metadata": {},
     "output_type": "execute_result"
    }
   ],
   "source": [
    "data_jams.shape"
   ]
  },
  {
   "cell_type": "code",
   "execution_count": 60,
   "metadata": {},
   "outputs": [
    {
     "name": "stdout",
     "output_type": "stream",
     "text": [
      "<class 'pandas.core.frame.DataFrame'>\n",
      "Int64Index: 301995 entries, 0 to 152116\n",
      "Data columns (total 13 columns):\n",
      " #   Column                     Non-Null Count   Dtype  \n",
      "---  ------                     --------------   -----  \n",
      " 0   time                       301995 non-null  object \n",
      " 1   kemendagri_kabupaten_kode  301995 non-null  float64\n",
      " 2   kemendagri_kabupaten_nama  301995 non-null  object \n",
      " 3   street                     299552 non-null  object \n",
      " 4   level                      301995 non-null  int64  \n",
      " 5   median_length              301995 non-null  float64\n",
      " 6   median_delay               301995 non-null  float64\n",
      " 7   median_speed_kmh           301995 non-null  float64\n",
      " 8   total_records              301995 non-null  int64  \n",
      " 9   id                         301995 non-null  int64  \n",
      " 10  date                       301995 non-null  object \n",
      " 11  median_level               301995 non-null  float64\n",
      " 12  geometry                   301995 non-null  object \n",
      "dtypes: float64(5), int64(3), object(5)\n",
      "memory usage: 32.3+ MB\n"
     ]
    }
   ],
   "source": [
    "data_jams.info()"
   ]
  },
  {
   "cell_type": "code",
   "execution_count": 57,
   "metadata": {},
   "outputs": [
    {
     "data": {
      "text/html": [
       "<div>\n",
       "<style scoped>\n",
       "    .dataframe tbody tr th:only-of-type {\n",
       "        vertical-align: middle;\n",
       "    }\n",
       "\n",
       "    .dataframe tbody tr th {\n",
       "        vertical-align: top;\n",
       "    }\n",
       "\n",
       "    .dataframe thead th {\n",
       "        text-align: right;\n",
       "    }\n",
       "</style>\n",
       "<table border=\"1\" class=\"dataframe\">\n",
       "  <thead>\n",
       "    <tr style=\"text-align: right;\">\n",
       "      <th></th>\n",
       "      <th>time</th>\n",
       "      <th>kemendagri_kabupaten_kode</th>\n",
       "      <th>kemendagri_kabupaten_nama</th>\n",
       "      <th>street</th>\n",
       "      <th>jam_level</th>\n",
       "      <th>median_length</th>\n",
       "      <th>median_delay_seconds</th>\n",
       "      <th>median_regular_speed</th>\n",
       "      <th>total_records</th>\n",
       "      <th>cause_type</th>\n",
       "      <th>median_seconds</th>\n",
       "      <th>median_speed</th>\n",
       "      <th>date</th>\n",
       "      <th>median_jam_level</th>\n",
       "      <th>id</th>\n",
       "      <th>geometry</th>\n",
       "    </tr>\n",
       "  </thead>\n",
       "  <tbody>\n",
       "    <tr>\n",
       "      <th>0</th>\n",
       "      <td>2022-07-06 07:00:00.000</td>\n",
       "      <td>32.73</td>\n",
       "      <td>KOTA BANDUNG</td>\n",
       "      <td>Terusan Buah Batu</td>\n",
       "      <td>4</td>\n",
       "      <td>1922.0</td>\n",
       "      <td>657.0</td>\n",
       "      <td>15.770000</td>\n",
       "      <td>13</td>\n",
       "      <td>NaN</td>\n",
       "      <td>844.0</td>\n",
       "      <td>7.51</td>\n",
       "      <td>2022-07-06</td>\n",
       "      <td>4.0</td>\n",
       "      <td>1492848</td>\n",
       "      <td>MULTILINESTRING ((107.638019 -6.965016, 107.63...</td>\n",
       "    </tr>\n",
       "    <tr>\n",
       "      <th>1</th>\n",
       "      <td>2022-07-06 07:00:00.000</td>\n",
       "      <td>32.73</td>\n",
       "      <td>KOTA BANDUNG</td>\n",
       "      <td>Jenderal AH Nasution</td>\n",
       "      <td>3</td>\n",
       "      <td>1819.0</td>\n",
       "      <td>421.0</td>\n",
       "      <td>17.939999</td>\n",
       "      <td>2</td>\n",
       "      <td>NaN</td>\n",
       "      <td>572.0</td>\n",
       "      <td>11.60</td>\n",
       "      <td>2022-07-06</td>\n",
       "      <td>3.0</td>\n",
       "      <td>1492844</td>\n",
       "      <td>LINESTRING (107.678021 -6.904799, 107.677631 -...</td>\n",
       "    </tr>\n",
       "    <tr>\n",
       "      <th>2</th>\n",
       "      <td>2022-07-06 07:00:00.000</td>\n",
       "      <td>32.73</td>\n",
       "      <td>KOTA BANDUNG</td>\n",
       "      <td>Jenderal AH Nasution</td>\n",
       "      <td>4</td>\n",
       "      <td>1064.0</td>\n",
       "      <td>586.0</td>\n",
       "      <td>14.520000</td>\n",
       "      <td>11</td>\n",
       "      <td>NaN</td>\n",
       "      <td>675.0</td>\n",
       "      <td>6.14</td>\n",
       "      <td>2022-07-06</td>\n",
       "      <td>4.0</td>\n",
       "      <td>1492845</td>\n",
       "      <td>MULTILINESTRING ((107.659819 -6.902242, 107.66...</td>\n",
       "    </tr>\n",
       "  </tbody>\n",
       "</table>\n",
       "</div>"
      ],
      "text/plain": [
       "                      time  kemendagri_kabupaten_kode  \\\n",
       "0  2022-07-06 07:00:00.000                      32.73   \n",
       "1  2022-07-06 07:00:00.000                      32.73   \n",
       "2  2022-07-06 07:00:00.000                      32.73   \n",
       "\n",
       "  kemendagri_kabupaten_nama                street  jam_level  median_length  \\\n",
       "0              KOTA BANDUNG     Terusan Buah Batu          4         1922.0   \n",
       "1              KOTA BANDUNG  Jenderal AH Nasution          3         1819.0   \n",
       "2              KOTA BANDUNG  Jenderal AH Nasution          4         1064.0   \n",
       "\n",
       "   median_delay_seconds  median_regular_speed  total_records  cause_type  \\\n",
       "0                 657.0             15.770000             13         NaN   \n",
       "1                 421.0             17.939999              2         NaN   \n",
       "2                 586.0             14.520000             11         NaN   \n",
       "\n",
       "   median_seconds  median_speed        date  median_jam_level       id  \\\n",
       "0           844.0          7.51  2022-07-06               4.0  1492848   \n",
       "1           572.0         11.60  2022-07-06               3.0  1492844   \n",
       "2           675.0          6.14  2022-07-06               4.0  1492845   \n",
       "\n",
       "                                            geometry  \n",
       "0  MULTILINESTRING ((107.638019 -6.965016, 107.63...  \n",
       "1  LINESTRING (107.678021 -6.904799, 107.677631 -...  \n",
       "2  MULTILINESTRING ((107.659819 -6.902242, 107.66...  "
      ]
     },
     "execution_count": 57,
     "metadata": {},
     "output_type": "execute_result"
    }
   ],
   "source": [
    "data_irregularities.head(3)"
   ]
  },
  {
   "cell_type": "code",
   "execution_count": 61,
   "metadata": {},
   "outputs": [
    {
     "data": {
      "text/plain": [
       "(11281, 16)"
      ]
     },
     "execution_count": 61,
     "metadata": {},
     "output_type": "execute_result"
    }
   ],
   "source": [
    "data_irregularities.shape"
   ]
  },
  {
   "cell_type": "code",
   "execution_count": 62,
   "metadata": {},
   "outputs": [
    {
     "name": "stdout",
     "output_type": "stream",
     "text": [
      "<class 'pandas.core.frame.DataFrame'>\n",
      "RangeIndex: 11281 entries, 0 to 11280\n",
      "Data columns (total 16 columns):\n",
      " #   Column                     Non-Null Count  Dtype  \n",
      "---  ------                     --------------  -----  \n",
      " 0   time                       11281 non-null  object \n",
      " 1   kemendagri_kabupaten_kode  11281 non-null  float64\n",
      " 2   kemendagri_kabupaten_nama  11281 non-null  object \n",
      " 3   street                     11279 non-null  object \n",
      " 4   jam_level                  11281 non-null  int64  \n",
      " 5   median_length              11281 non-null  float64\n",
      " 6   median_delay_seconds       11281 non-null  float64\n",
      " 7   median_regular_speed       11281 non-null  float64\n",
      " 8   total_records              11281 non-null  int64  \n",
      " 9   cause_type                 0 non-null      float64\n",
      " 10  median_seconds             11281 non-null  float64\n",
      " 11  median_speed               11281 non-null  float64\n",
      " 12  date                       11281 non-null  object \n",
      " 13  median_jam_level           11281 non-null  float64\n",
      " 14  id                         11281 non-null  int64  \n",
      " 15  geometry                   11281 non-null  object \n",
      "dtypes: float64(8), int64(3), object(5)\n",
      "memory usage: 1.4+ MB\n"
     ]
    }
   ],
   "source": [
    "data_irregularities.info()"
   ]
  },
  {
   "cell_type": "code",
   "execution_count": 58,
   "metadata": {},
   "outputs": [
    {
     "data": {
      "text/html": [
       "<div>\n",
       "<style scoped>\n",
       "    .dataframe tbody tr th:only-of-type {\n",
       "        vertical-align: middle;\n",
       "    }\n",
       "\n",
       "    .dataframe tbody tr th {\n",
       "        vertical-align: top;\n",
       "    }\n",
       "\n",
       "    .dataframe thead th {\n",
       "        text-align: right;\n",
       "    }\n",
       "</style>\n",
       "<table border=\"1\" class=\"dataframe\">\n",
       "  <thead>\n",
       "    <tr style=\"text-align: right;\">\n",
       "      <th></th>\n",
       "      <th>id</th>\n",
       "      <th>time</th>\n",
       "      <th>kemendagri_kabupaten_kode</th>\n",
       "      <th>kemendagri_kabupaten_nama</th>\n",
       "      <th>street</th>\n",
       "      <th>type</th>\n",
       "      <th>avg_location</th>\n",
       "      <th>total_records</th>\n",
       "      <th>date</th>\n",
       "    </tr>\n",
       "  </thead>\n",
       "  <tbody>\n",
       "    <tr>\n",
       "      <th>0</th>\n",
       "      <td>5930351</td>\n",
       "      <td>2022-07-06 00:00:00.000</td>\n",
       "      <td>32.73</td>\n",
       "      <td>KOTA BANDUNG</td>\n",
       "      <td>Batununggal Indah 2</td>\n",
       "      <td>WEATHERHAZARD</td>\n",
       "      <td>[107.62634049999998, -6.962361499999998]</td>\n",
       "      <td>120</td>\n",
       "      <td>2022-07-06</td>\n",
       "    </tr>\n",
       "    <tr>\n",
       "      <th>1</th>\n",
       "      <td>5930352</td>\n",
       "      <td>2022-07-06 00:00:00.000</td>\n",
       "      <td>32.73</td>\n",
       "      <td>KOTA BANDUNG</td>\n",
       "      <td>Cibaduyut Raya</td>\n",
       "      <td>ROAD_CLOSED</td>\n",
       "      <td>[107.59526000000004, -6.9472129999999925]</td>\n",
       "      <td>60</td>\n",
       "      <td>2022-07-06</td>\n",
       "    </tr>\n",
       "    <tr>\n",
       "      <th>2</th>\n",
       "      <td>5930353</td>\n",
       "      <td>2022-07-06 00:00:00.000</td>\n",
       "      <td>32.73</td>\n",
       "      <td>KOTA BANDUNG</td>\n",
       "      <td>Gerbang Tol Gede Bage</td>\n",
       "      <td>ROAD_CLOSED</td>\n",
       "      <td>[107.69057999999981, -6.959956500000006]</td>\n",
       "      <td>120</td>\n",
       "      <td>2022-07-06</td>\n",
       "    </tr>\n",
       "  </tbody>\n",
       "</table>\n",
       "</div>"
      ],
      "text/plain": [
       "        id                     time  kemendagri_kabupaten_kode  \\\n",
       "0  5930351  2022-07-06 00:00:00.000                      32.73   \n",
       "1  5930352  2022-07-06 00:00:00.000                      32.73   \n",
       "2  5930353  2022-07-06 00:00:00.000                      32.73   \n",
       "\n",
       "  kemendagri_kabupaten_nama                 street           type  \\\n",
       "0              KOTA BANDUNG    Batununggal Indah 2  WEATHERHAZARD   \n",
       "1              KOTA BANDUNG         Cibaduyut Raya    ROAD_CLOSED   \n",
       "2              KOTA BANDUNG  Gerbang Tol Gede Bage    ROAD_CLOSED   \n",
       "\n",
       "                                avg_location  total_records        date  \n",
       "0   [107.62634049999998, -6.962361499999998]            120  2022-07-06  \n",
       "1  [107.59526000000004, -6.9472129999999925]             60  2022-07-06  \n",
       "2   [107.69057999999981, -6.959956500000006]            120  2022-07-06  "
      ]
     },
     "execution_count": 58,
     "metadata": {},
     "output_type": "execute_result"
    }
   ],
   "source": [
    "data_alerts.head(3)"
   ]
  },
  {
   "cell_type": "code",
   "execution_count": 55,
   "metadata": {},
   "outputs": [
    {
     "data": {
      "text/plain": [
       "(30385, 9)"
      ]
     },
     "execution_count": 55,
     "metadata": {},
     "output_type": "execute_result"
    }
   ],
   "source": [
    "data_alerts.shape"
   ]
  },
  {
   "cell_type": "code",
   "execution_count": 63,
   "metadata": {},
   "outputs": [
    {
     "name": "stdout",
     "output_type": "stream",
     "text": [
      "<class 'pandas.core.frame.DataFrame'>\n",
      "RangeIndex: 30385 entries, 0 to 30384\n",
      "Data columns (total 9 columns):\n",
      " #   Column                     Non-Null Count  Dtype  \n",
      "---  ------                     --------------  -----  \n",
      " 0   id                         30385 non-null  int64  \n",
      " 1   time                       30385 non-null  object \n",
      " 2   kemendagri_kabupaten_kode  30385 non-null  float64\n",
      " 3   kemendagri_kabupaten_nama  30385 non-null  object \n",
      " 4   street                     28496 non-null  object \n",
      " 5   type                       30385 non-null  object \n",
      " 6   avg_location               30385 non-null  object \n",
      " 7   total_records              30385 non-null  int64  \n",
      " 8   date                       30385 non-null  object \n",
      "dtypes: float64(1), int64(2), object(6)\n",
      "memory usage: 2.1+ MB\n"
     ]
    }
   ],
   "source": [
    "data_alerts.info()"
   ]
  },
  {
   "cell_type": "code",
   "execution_count": 64,
   "metadata": {},
   "outputs": [
    {
     "data": {
      "text/plain": [
       "id                              0\n",
       "time                            0\n",
       "kemendagri_kabupaten_kode       0\n",
       "kemendagri_kabupaten_nama       0\n",
       "street                       1889\n",
       "type                            0\n",
       "avg_location                    0\n",
       "total_records                   0\n",
       "date                            0\n",
       "dtype: int64"
      ]
     },
     "execution_count": 64,
     "metadata": {},
     "output_type": "execute_result"
    }
   ],
   "source": [
    "data_alerts.isnull().sum()"
   ]
  },
  {
   "cell_type": "markdown",
   "metadata": {},
   "source": [
    "## Formulate Solutions"
   ]
  },
  {
   "cell_type": "code",
   "execution_count": null,
   "metadata": {},
   "outputs": [],
   "source": []
  },
  {
   "cell_type": "markdown",
   "metadata": {},
   "source": [
    "## Features"
   ]
  },
  {
   "cell_type": "code",
   "execution_count": null,
   "metadata": {},
   "outputs": [],
   "source": []
  }
 ],
 "metadata": {
  "kernelspec": {
   "display_name": "Python 3 (ipykernel)",
   "language": "python",
   "name": "python3"
  },
  "language_info": {
   "codemirror_mode": {
    "name": "ipython",
    "version": 3
   },
   "file_extension": ".py",
   "mimetype": "text/x-python",
   "name": "python",
   "nbconvert_exporter": "python",
   "pygments_lexer": "ipython3",
   "version": "3.9.12"
  }
 },
 "nbformat": 4,
 "nbformat_minor": 4
}
