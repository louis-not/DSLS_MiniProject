{
 "cells": [
  {
   "cell_type": "code",
   "execution_count": 1,
   "id": "10bcb580",
   "metadata": {},
   "outputs": [],
   "source": [
    "import pandas as pd\n",
    "import seaborn as sns\n",
    "import matplotlib.pyplot as plt\n",
    "import numpy as np\n",
    "import seaborn as sns\n",
    "import warnings\n",
    "warnings.filterwarnings(\"ignore\")\n",
    "\n",
    "import io\n",
    "import pyarrow.parquet as pq\n",
    "import pickle\n",
    "\n",
    "from sklearn.metrics import mean_absolute_percentage_error, mean_absolute_error\n",
    "from statsmodels.tsa.arima.model import ARIMA\n",
    "\n",
    "from statistics import mean"
   ]
  },
  {
   "cell_type": "code",
   "execution_count": 2,
   "id": "63175165",
   "metadata": {},
   "outputs": [],
   "source": [
    "PATH_DATA='D:/DSLS/Data Science/data/raw/'\n",
    "filename_params='/params_tuned.pkl'\n",
    "filename_store='/preprocessed_dataset.pkl'\n",
    "filename_valid='/validation_dataset.pkl'\n",
    "filename_rec = '/recurring_dataset.pkl'\n",
    "\n",
    "with open(PATH_DATA+filename_store, 'rb') as f:\n",
    "  df = pickle.load(f)\n",
    "\n",
    "with open(PATH_DATA+filename_valid, 'rb') as f:\n",
    "  df_val = pickle.load(f)\n",
    "\n",
    "with open(PATH_DATA+filename_rec, 'rb') as f:\n",
    "  df_rec = pickle.load(f)\n",
    "\n",
    "with open(PATH_DATA+filename_params, 'rb') as f:\n",
    "  params = pickle.load(f)"
   ]
  },
  {
   "cell_type": "markdown",
   "id": "9eff4db6",
   "metadata": {},
   "source": [
    "## Model"
   ]
  },
  {
   "cell_type": "code",
   "execution_count": 19,
   "id": "ce9d35ee",
   "metadata": {},
   "outputs": [],
   "source": [
    "def split_train_test(data):\n",
    "    train_data = data[:int(0.9*(len(data)))]\n",
    "    test_data = data[int(0.9*(len(data))):]\n",
    "    \n",
    "#     print(f\"shape of train: {train_data.shape}\")\n",
    "#     print(f\"shape of test: {test_data.shape}\")\n",
    "    \n",
    "    return train_data, test_data"
   ]
  },
  {
   "cell_type": "code",
   "execution_count": 20,
   "id": "b463cf3b",
   "metadata": {},
   "outputs": [],
   "source": [
    "def black_box_arima(p,d,q,street):\n",
    "    mape =  list()\n",
    "    metric = 'median_delay'\n",
    "    \n",
    "    samples_f = df[street]\n",
    "#     print(samples_f)\n",
    "    for i in range(6):\n",
    "        # splitting\n",
    "        sample = samples_f[i]\n",
    "        \n",
    "        train, test = split_train_test(sample)\n",
    "        \n",
    "        try:\n",
    "            data_train=train[metric]\n",
    "            data_test=test[metric]\n",
    "        except:\n",
    "            print('failed splitting')\n",
    "            continue\n",
    "            \n",
    "        # modeling \n",
    "        try:\n",
    "            y = data_train\n",
    "            ARIMAmodel = ARIMA(y, order = (int(p), int(d), int(q)))\n",
    "            ARIMAmodel = ARIMAmodel.fit()\n",
    "        except:\n",
    "            print('failed modelling')\n",
    "            continue \n",
    "            \n",
    "        # predict\n",
    "        y_pred = ARIMAmodel.get_forecast(len(data_test.index))\n",
    "        y_pred_df = y_pred.conf_int(alpha = 0.1) \n",
    "        y_pred_df[\"Predictions\"] = ARIMAmodel.predict(start = y_pred_df.index[0], end = y_pred_df.index[-1])\n",
    "        y_pred_df.index = data_test.index\n",
    "        y_pred_out = y_pred_df[\"Predictions\"] \n",
    "        \n",
    "        \n",
    "        mape.append(mean_absolute_percentage_error(data_test.values, y_pred_df[\"Predictions\"]))\n",
    "        \n",
    "    return mean(mape)"
   ]
  },
  {
   "cell_type": "code",
   "execution_count": 21,
   "id": "1321f5a1",
   "metadata": {},
   "outputs": [
    {
     "name": "stdout",
     "output_type": "stream",
     "text": [
      "dict_keys(['Tol Jagorawi', 'Tol Cijago', 'Tol Depok-Antasari', 'Kranggan Raya', 'Tol Cimanggis-Cibitung', 'Lenteng Agung Barat'])\n"
     ]
    }
   ],
   "source": [
    "streets = params.keys()\n",
    "print(streets)"
   ]
  },
  {
   "cell_type": "markdown",
   "id": "a2b61e92",
   "metadata": {},
   "source": [
    "## Validation"
   ]
  },
  {
   "cell_type": "code",
   "execution_count": 69,
   "id": "871a4b90",
   "metadata": {},
   "outputs": [
    {
     "data": {
      "image/png": "[encoded data removed]",
      "text/plain": [
       "<Figure size 864x360 with 1 Axes>"
      ]
     },
     "metadata": {
      "needs_background": "light"
     },
     "output_type": "display_data"
    },
    {
     "name": "stdout",
     "output_type": "stream",
     "text": [
      "0.4182127329068939\n"
     ]
    }
   ],
   "source": [
    "p = 2\n",
    "d = 1\n",
    "q = 0\n",
    "street = 'Lenteng Agung Barat'\n",
    "\n",
    "samples_f = df[street]\n",
    "#     for i in range(6):\n",
    "#         # splitting\n",
    "sample = samples_f[0]\n",
    "train, _ = split_train_test(sample)\n",
    "data_train=train['median_delay']\n",
    "\n",
    "data_val = df_val[street][0]['median_delay']\n",
    "data_val.reset_index(inplace=True, drop=True)\n",
    "\n",
    "y = data_train\n",
    "ARIMAmodel = ARIMA(y, order = (int(p), int(d), int(q)))\n",
    "ARIMAmodel = ARIMAmodel.fit()\n",
    "\n",
    "y_pred = ARIMAmodel.get_forecast(len(data_val.index))\n",
    "y_pred_df = y_pred.conf_int(alpha = 0.1) \n",
    "y_pred_df[\"Predictions\"] = ARIMAmodel.predict(start = y_pred_df.index[0], end = y_pred_df.index[-1])\n",
    "y_pred_df.index = data_val.index\n",
    "y_pred_out = y_pred_df[\"Predictions\"] \n",
    "\n",
    "#plot\n",
    "plt.figure(figsize=(12, 5))\n",
    "plt.title(street)\n",
    "# plt.plot(data_train, color='blue', label = 'Train')\n",
    "plt.plot(data_val, color='orange', label = 'Validation')\n",
    "plt.plot(y_pred_out, color='green', label = 'Predictions')\n",
    "plt.legend()\n",
    "plt.show()\n",
    "\n",
    "print(mean_absolute_percentage_error(data_val.values, y_pred_df[\"Predictions\"]))\n",
    "        "
   ]
  },
  {
   "cell_type": "code",
   "execution_count": null,
   "id": "d03e51e4",
   "metadata": {},
   "outputs": [],
   "source": [
    "data_val"
   ]
  },
  {
   "cell_type": "code",
   "execution_count": null,
   "id": "d5274a5e",
   "metadata": {},
   "outputs": [],
   "source": []
  }
 ],
 "metadata": {
  "kernelspec": {
   "display_name": "Python 3 (ipykernel)",
   "language": "python",
   "name": "python3"
  },
  "language_info": {
   "codemirror_mode": {
    "name": "ipython",
    "version": 3
   },
   "file_extension": ".py",
   "mimetype": "text/x-python",
   "name": "python",
   "nbconvert_exporter": "python",
   "pygments_lexer": "ipython3",
   "version": "3.9.12"
  }
 },
 "nbformat": 4,
 "nbformat_minor": 5
}
