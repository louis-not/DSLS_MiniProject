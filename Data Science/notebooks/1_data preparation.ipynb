{
 "cells": [
  {
   "cell_type": "markdown",
   "metadata": {
    "tags": []
   },
   "source": [
    "# Data Preparation"
   ]
  },
  {
   "cell_type": "code",
   "execution_count": 26,
   "metadata": {},
   "outputs": [],
   "source": [
    "import pandas as pd\n",
    "import seaborn as sns\n",
    "import matplotlib.pyplot as plt\n",
    "import numpy as np\n",
    "import seaborn as sns\n",
    "import warnings\n",
    "warnings.filterwarnings(\"ignore\")"
   ]
  },
  {
   "cell_type": "markdown",
   "metadata": {
    "jp-MarkdownHeadingCollapsed": true,
    "tags": []
   },
   "source": [
    "## Load Data"
   ]
  },
  {
   "cell_type": "code",
   "execution_count": 27,
   "metadata": {},
   "outputs": [],
   "source": [
    "PATH_DATA='D:/DSLS/Data Science/data/raw/'"
   ]
  },
  {
   "cell_type": "code",
   "execution_count": 47,
   "metadata": {},
   "outputs": [],
   "source": [
    "data_jams=pd.read_csv(PATH_DATA+'aggregate_median_jams_Kota Depok.csv', index_col=0)\n",
    "data_irregularities=pd.read_csv(PATH_DATA+'aggregate_median_irregularities_Kota Depok.csv', index_col=0)\n",
    "data_alerts=pd.read_csv(PATH_DATA+'aggregate_alerts_Kota Depok.csv', index_col=0)"
   ]
  },
  {
   "cell_type": "markdown",
   "metadata": {},
   "source": [
    "data_jams merupakan dataframe yang berisikan kumpulan kemacetan yang terdeteksi pada Kota Depok. Suatu kemacetan terdeteksi dapat melalui 2 cara, yakni:\n",
    "1. kalkulasi actual speed vs average-speed pada suatu segmen jalan yang terdeteksi dari GPS pengguna jalan\n",
    "2. user-generated report yang mengidentifikasi suatu kemacetan"
   ]
  },
  {
   "cell_type": "code",
   "execution_count": 48,
   "metadata": {},
   "outputs": [
    {
     "data": {
      "text/html": [
       "<div>\n",
       "<style scoped>\n",
       "    .dataframe tbody tr th:only-of-type {\n",
       "        vertical-align: middle;\n",
       "    }\n",
       "\n",
       "    .dataframe tbody tr th {\n",
       "        vertical-align: top;\n",
       "    }\n",
       "\n",
       "    .dataframe thead th {\n",
       "        text-align: right;\n",
       "    }\n",
       "</style>\n",
       "<table border=\"1\" class=\"dataframe\">\n",
       "  <thead>\n",
       "    <tr style=\"text-align: right;\">\n",
       "      <th></th>\n",
       "      <th>time</th>\n",
       "      <th>kemendagri_kabupaten_kode</th>\n",
       "      <th>kemendagri_kabupaten_nama</th>\n",
       "      <th>street</th>\n",
       "      <th>level</th>\n",
       "      <th>median_length</th>\n",
       "      <th>median_delay</th>\n",
       "      <th>median_speed_kmh</th>\n",
       "      <th>total_records</th>\n",
       "      <th>id</th>\n",
       "      <th>date</th>\n",
       "      <th>median_level</th>\n",
       "      <th>geometry</th>\n",
       "    </tr>\n",
       "  </thead>\n",
       "  <tbody>\n",
       "    <tr>\n",
       "      <th>0</th>\n",
       "      <td>2022-07-06 00:00:00.000</td>\n",
       "      <td>32.76</td>\n",
       "      <td>KOTA DEPOK</td>\n",
       "      <td>Tole Iskandar</td>\n",
       "      <td>2</td>\n",
       "      <td>867.0</td>\n",
       "      <td>127.0</td>\n",
       "      <td>14.00</td>\n",
       "      <td>1</td>\n",
       "      <td>33482698</td>\n",
       "      <td>2022-07-06</td>\n",
       "      <td>2.0</td>\n",
       "      <td>LINESTRING (106.837496 -6.403788, 106.837451 -...</td>\n",
       "    </tr>\n",
       "    <tr>\n",
       "      <th>1</th>\n",
       "      <td>2022-07-06 00:00:00.000</td>\n",
       "      <td>32.76</td>\n",
       "      <td>KOTA DEPOK</td>\n",
       "      <td>Bukit Cinere</td>\n",
       "      <td>3</td>\n",
       "      <td>421.0</td>\n",
       "      <td>92.0</td>\n",
       "      <td>10.26</td>\n",
       "      <td>1</td>\n",
       "      <td>33482683</td>\n",
       "      <td>2022-07-06</td>\n",
       "      <td>3.0</td>\n",
       "      <td>LINESTRING (106.793532 -6.339868, 106.79333 -6...</td>\n",
       "    </tr>\n",
       "    <tr>\n",
       "      <th>2</th>\n",
       "      <td>2022-07-06 00:00:00.000</td>\n",
       "      <td>32.76</td>\n",
       "      <td>KOTA DEPOK</td>\n",
       "      <td>Tole Iskandar</td>\n",
       "      <td>3</td>\n",
       "      <td>1236.0</td>\n",
       "      <td>186.0</td>\n",
       "      <td>13.66</td>\n",
       "      <td>11</td>\n",
       "      <td>33482699</td>\n",
       "      <td>2022-07-06</td>\n",
       "      <td>3.0</td>\n",
       "      <td>MULTILINESTRING ((106.840781 -6.404241, 106.84...</td>\n",
       "    </tr>\n",
       "  </tbody>\n",
       "</table>\n",
       "</div>"
      ],
      "text/plain": [
       "                      time  kemendagri_kabupaten_kode  \\\n",
       "0  2022-07-06 00:00:00.000                      32.76   \n",
       "1  2022-07-06 00:00:00.000                      32.76   \n",
       "2  2022-07-06 00:00:00.000                      32.76   \n",
       "\n",
       "  kemendagri_kabupaten_nama         street  level  median_length  \\\n",
       "0                KOTA DEPOK  Tole Iskandar      2          867.0   \n",
       "1                KOTA DEPOK   Bukit Cinere      3          421.0   \n",
       "2                KOTA DEPOK  Tole Iskandar      3         1236.0   \n",
       "\n",
       "   median_delay  median_speed_kmh  total_records        id        date  \\\n",
       "0         127.0             14.00              1  33482698  2022-07-06   \n",
       "1          92.0             10.26              1  33482683  2022-07-06   \n",
       "2         186.0             13.66             11  33482699  2022-07-06   \n",
       "\n",
       "   median_level                                           geometry  \n",
       "0           2.0  LINESTRING (106.837496 -6.403788, 106.837451 -...  \n",
       "1           3.0  LINESTRING (106.793532 -6.339868, 106.79333 -6...  \n",
       "2           3.0  MULTILINESTRING ((106.840781 -6.404241, 106.84...  "
      ]
     },
     "execution_count": 48,
     "metadata": {},
     "output_type": "execute_result"
    }
   ],
   "source": [
    "data_jams.head(3)"
   ]
  },
  {
   "cell_type": "code",
   "execution_count": 49,
   "metadata": {},
   "outputs": [
    {
     "data": {
      "text/plain": [
       "(157218, 13)"
      ]
     },
     "execution_count": 49,
     "metadata": {},
     "output_type": "execute_result"
    }
   ],
   "source": [
    "data_jams.shape"
   ]
  },
  {
   "cell_type": "code",
   "execution_count": 50,
   "metadata": {},
   "outputs": [
    {
     "name": "stdout",
     "output_type": "stream",
     "text": [
      "<class 'pandas.core.frame.DataFrame'>\n",
      "Int64Index: 157218 entries, 0 to 77389\n",
      "Data columns (total 13 columns):\n",
      " #   Column                     Non-Null Count   Dtype  \n",
      "---  ------                     --------------   -----  \n",
      " 0   time                       157218 non-null  object \n",
      " 1   kemendagri_kabupaten_kode  157218 non-null  float64\n",
      " 2   kemendagri_kabupaten_nama  157218 non-null  object \n",
      " 3   street                     154459 non-null  object \n",
      " 4   level                      157218 non-null  int64  \n",
      " 5   median_length              157218 non-null  float64\n",
      " 6   median_delay               157218 non-null  float64\n",
      " 7   median_speed_kmh           157218 non-null  float64\n",
      " 8   total_records              157218 non-null  int64  \n",
      " 9   id                         157218 non-null  int64  \n",
      " 10  date                       157218 non-null  object \n",
      " 11  median_level               157218 non-null  float64\n",
      " 12  geometry                   157218 non-null  object \n",
      "dtypes: float64(5), int64(3), object(5)\n",
      "memory usage: 16.8+ MB\n"
     ]
    }
   ],
   "source": [
    "data_jams.info()"
   ]
  },
  {
   "cell_type": "markdown",
   "metadata": {},
   "source": [
    "data_irregularities merupakan dataframe yang berisikan kemacetan yang teridentifikasi oleh waze yang bersifat irregular / atypical berdasarkan historical speed data pada kondisi yang sama."
   ]
  },
  {
   "cell_type": "code",
   "execution_count": 51,
   "metadata": {},
   "outputs": [
    {
     "data": {
      "text/html": [
       "<div>\n",
       "<style scoped>\n",
       "    .dataframe tbody tr th:only-of-type {\n",
       "        vertical-align: middle;\n",
       "    }\n",
       "\n",
       "    .dataframe tbody tr th {\n",
       "        vertical-align: top;\n",
       "    }\n",
       "\n",
       "    .dataframe thead th {\n",
       "        text-align: right;\n",
       "    }\n",
       "</style>\n",
       "<table border=\"1\" class=\"dataframe\">\n",
       "  <thead>\n",
       "    <tr style=\"text-align: right;\">\n",
       "      <th></th>\n",
       "      <th>kemendagri_kabupaten_kode</th>\n",
       "      <th>kemendagri_kabupaten_nama</th>\n",
       "      <th>street</th>\n",
       "      <th>jam_level</th>\n",
       "      <th>median_length</th>\n",
       "      <th>median_delay_seconds</th>\n",
       "      <th>median_regular_speed</th>\n",
       "      <th>total_records</th>\n",
       "      <th>cause_type</th>\n",
       "      <th>median_seconds</th>\n",
       "      <th>median_speed</th>\n",
       "      <th>date</th>\n",
       "      <th>median_jam_level</th>\n",
       "      <th>id</th>\n",
       "      <th>geometry</th>\n",
       "    </tr>\n",
       "    <tr>\n",
       "      <th>time</th>\n",
       "      <th></th>\n",
       "      <th></th>\n",
       "      <th></th>\n",
       "      <th></th>\n",
       "      <th></th>\n",
       "      <th></th>\n",
       "      <th></th>\n",
       "      <th></th>\n",
       "      <th></th>\n",
       "      <th></th>\n",
       "      <th></th>\n",
       "      <th></th>\n",
       "      <th></th>\n",
       "      <th></th>\n",
       "      <th></th>\n",
       "    </tr>\n",
       "  </thead>\n",
       "  <tbody>\n",
       "    <tr>\n",
       "      <th>2022-07-06 07:00:00.000</th>\n",
       "      <td>32.76</td>\n",
       "      <td>KOTA DEPOK</td>\n",
       "      <td>Prof Dr Mr Supomo</td>\n",
       "      <td>3</td>\n",
       "      <td>535.0</td>\n",
       "      <td>460.0</td>\n",
       "      <td>21.00</td>\n",
       "      <td>2</td>\n",
       "      <td>NaN</td>\n",
       "      <td>567.0</td>\n",
       "      <td>3.390</td>\n",
       "      <td>2022-07-06</td>\n",
       "      <td>3.0</td>\n",
       "      <td>1493443</td>\n",
       "      <td>LINESTRING (106.831075 -6.357956, 106.831177 -...</td>\n",
       "    </tr>\n",
       "    <tr>\n",
       "      <th>2022-07-06 07:00:00.000</th>\n",
       "      <td>32.76</td>\n",
       "      <td>KOTA DEPOK</td>\n",
       "      <td>Bungur Raya</td>\n",
       "      <td>3</td>\n",
       "      <td>604.0</td>\n",
       "      <td>382.0</td>\n",
       "      <td>7.91</td>\n",
       "      <td>2</td>\n",
       "      <td>NaN</td>\n",
       "      <td>472.0</td>\n",
       "      <td>4.605</td>\n",
       "      <td>2022-07-06</td>\n",
       "      <td>3.0</td>\n",
       "      <td>1493441</td>\n",
       "      <td>LINESTRING (106.808105 -6.368486, 106.808505 -...</td>\n",
       "    </tr>\n",
       "    <tr>\n",
       "      <th>2022-07-06 07:00:00.000</th>\n",
       "      <td>32.76</td>\n",
       "      <td>KOTA DEPOK</td>\n",
       "      <td>Bungur Raya</td>\n",
       "      <td>4</td>\n",
       "      <td>604.0</td>\n",
       "      <td>481.0</td>\n",
       "      <td>9.40</td>\n",
       "      <td>19</td>\n",
       "      <td>NaN</td>\n",
       "      <td>571.0</td>\n",
       "      <td>3.800</td>\n",
       "      <td>2022-07-06</td>\n",
       "      <td>4.0</td>\n",
       "      <td>1493442</td>\n",
       "      <td>MULTILINESTRING ((106.813307 -6.369841, 106.81...</td>\n",
       "    </tr>\n",
       "  </tbody>\n",
       "</table>\n",
       "</div>"
      ],
      "text/plain": [
       "                         kemendagri_kabupaten_kode kemendagri_kabupaten_nama  \\\n",
       "time                                                                           \n",
       "2022-07-06 07:00:00.000                      32.76                KOTA DEPOK   \n",
       "2022-07-06 07:00:00.000                      32.76                KOTA DEPOK   \n",
       "2022-07-06 07:00:00.000                      32.76                KOTA DEPOK   \n",
       "\n",
       "                                    street  jam_level  median_length  \\\n",
       "time                                                                   \n",
       "2022-07-06 07:00:00.000  Prof Dr Mr Supomo          3          535.0   \n",
       "2022-07-06 07:00:00.000        Bungur Raya          3          604.0   \n",
       "2022-07-06 07:00:00.000        Bungur Raya          4          604.0   \n",
       "\n",
       "                         median_delay_seconds  median_regular_speed  \\\n",
       "time                                                                  \n",
       "2022-07-06 07:00:00.000                 460.0                 21.00   \n",
       "2022-07-06 07:00:00.000                 382.0                  7.91   \n",
       "2022-07-06 07:00:00.000                 481.0                  9.40   \n",
       "\n",
       "                         total_records  cause_type  median_seconds  \\\n",
       "time                                                                 \n",
       "2022-07-06 07:00:00.000              2         NaN           567.0   \n",
       "2022-07-06 07:00:00.000              2         NaN           472.0   \n",
       "2022-07-06 07:00:00.000             19         NaN           571.0   \n",
       "\n",
       "                         median_speed        date  median_jam_level       id  \\\n",
       "time                                                                           \n",
       "2022-07-06 07:00:00.000         3.390  2022-07-06               3.0  1493443   \n",
       "2022-07-06 07:00:00.000         4.605  2022-07-06               3.0  1493441   \n",
       "2022-07-06 07:00:00.000         3.800  2022-07-06               4.0  1493442   \n",
       "\n",
       "                                                                  geometry  \n",
       "time                                                                        \n",
       "2022-07-06 07:00:00.000  LINESTRING (106.831075 -6.357956, 106.831177 -...  \n",
       "2022-07-06 07:00:00.000  LINESTRING (106.808105 -6.368486, 106.808505 -...  \n",
       "2022-07-06 07:00:00.000  MULTILINESTRING ((106.813307 -6.369841, 106.81...  "
      ]
     },
     "execution_count": 51,
     "metadata": {},
     "output_type": "execute_result"
    }
   ],
   "source": [
    "data_irregularities.head(3)"
   ]
  },
  {
   "cell_type": "code",
   "execution_count": 52,
   "metadata": {},
   "outputs": [
    {
     "data": {
      "text/plain": [
       "(8313, 15)"
      ]
     },
     "execution_count": 52,
     "metadata": {},
     "output_type": "execute_result"
    }
   ],
   "source": [
    "data_irregularities.shape"
   ]
  },
  {
   "cell_type": "code",
   "execution_count": 53,
   "metadata": {},
   "outputs": [
    {
     "name": "stdout",
     "output_type": "stream",
     "text": [
      "<class 'pandas.core.frame.DataFrame'>\n",
      "Index: 8313 entries, 2022-07-06 07:00:00.000 to 2022-09-04 23:00:00.000\n",
      "Data columns (total 15 columns):\n",
      " #   Column                     Non-Null Count  Dtype  \n",
      "---  ------                     --------------  -----  \n",
      " 0   kemendagri_kabupaten_kode  8313 non-null   float64\n",
      " 1   kemendagri_kabupaten_nama  8313 non-null   object \n",
      " 2   street                     8269 non-null   object \n",
      " 3   jam_level                  8313 non-null   int64  \n",
      " 4   median_length              8313 non-null   float64\n",
      " 5   median_delay_seconds       8313 non-null   float64\n",
      " 6   median_regular_speed       8313 non-null   float64\n",
      " 7   total_records              8313 non-null   int64  \n",
      " 8   cause_type                 0 non-null      float64\n",
      " 9   median_seconds             8313 non-null   float64\n",
      " 10  median_speed               8313 non-null   float64\n",
      " 11  date                       8313 non-null   object \n",
      " 12  median_jam_level           8313 non-null   float64\n",
      " 13  id                         8313 non-null   int64  \n",
      " 14  geometry                   8313 non-null   object \n",
      "dtypes: float64(8), int64(3), object(4)\n",
      "memory usage: 1.0+ MB\n"
     ]
    }
   ],
   "source": [
    "data_irregularities.info()"
   ]
  },
  {
   "cell_type": "markdown",
   "metadata": {},
   "source": [
    "data_alerts merupakan dataframe yang berisikan alrets yang terjadi pada suatu segmen jalan. Jenis alert dapat berupa \n",
    "- kecelakaan\n",
    "- kemacetan\n",
    "- cuaca\n",
    "- construction\n",
    "- road cloased\n",
    "- misc"
   ]
  },
  {
   "cell_type": "code",
   "execution_count": 54,
   "metadata": {},
   "outputs": [
    {
     "data": {
      "text/html": [
       "<div>\n",
       "<style scoped>\n",
       "    .dataframe tbody tr th:only-of-type {\n",
       "        vertical-align: middle;\n",
       "    }\n",
       "\n",
       "    .dataframe tbody tr th {\n",
       "        vertical-align: top;\n",
       "    }\n",
       "\n",
       "    .dataframe thead th {\n",
       "        text-align: right;\n",
       "    }\n",
       "</style>\n",
       "<table border=\"1\" class=\"dataframe\">\n",
       "  <thead>\n",
       "    <tr style=\"text-align: right;\">\n",
       "      <th></th>\n",
       "      <th>time</th>\n",
       "      <th>kemendagri_kabupaten_kode</th>\n",
       "      <th>kemendagri_kabupaten_nama</th>\n",
       "      <th>street</th>\n",
       "      <th>type</th>\n",
       "      <th>avg_location</th>\n",
       "      <th>total_records</th>\n",
       "      <th>date</th>\n",
       "    </tr>\n",
       "    <tr>\n",
       "      <th>id</th>\n",
       "      <th></th>\n",
       "      <th></th>\n",
       "      <th></th>\n",
       "      <th></th>\n",
       "      <th></th>\n",
       "      <th></th>\n",
       "      <th></th>\n",
       "      <th></th>\n",
       "    </tr>\n",
       "  </thead>\n",
       "  <tbody>\n",
       "    <tr>\n",
       "      <th>5931593</th>\n",
       "      <td>2022-07-06 00:00:00.000</td>\n",
       "      <td>32.76</td>\n",
       "      <td>KOTA DEPOK</td>\n",
       "      <td>Dewi Sartika</td>\n",
       "      <td>ROAD_CLOSED</td>\n",
       "      <td>[106.81841149999966, -6.399794999999999]</td>\n",
       "      <td>240</td>\n",
       "      <td>2022-07-06</td>\n",
       "    </tr>\n",
       "    <tr>\n",
       "      <th>5931594</th>\n",
       "      <td>2022-07-06 00:00:00.000</td>\n",
       "      <td>32.76</td>\n",
       "      <td>KOTA DEPOK</td>\n",
       "      <td>Krukut Raya</td>\n",
       "      <td>WEATHERHAZARD</td>\n",
       "      <td>[106.79100399999993, -6.363434999999996]</td>\n",
       "      <td>60</td>\n",
       "      <td>2022-07-06</td>\n",
       "    </tr>\n",
       "    <tr>\n",
       "      <th>5931595</th>\n",
       "      <td>2022-07-06 00:00:00.000</td>\n",
       "      <td>32.76</td>\n",
       "      <td>KOTA DEPOK</td>\n",
       "      <td>NaN</td>\n",
       "      <td>JAM</td>\n",
       "      <td>[106.783179, -6.443203999999998]</td>\n",
       "      <td>22</td>\n",
       "      <td>2022-07-06</td>\n",
       "    </tr>\n",
       "  </tbody>\n",
       "</table>\n",
       "</div>"
      ],
      "text/plain": [
       "                            time  kemendagri_kabupaten_kode  \\\n",
       "id                                                            \n",
       "5931593  2022-07-06 00:00:00.000                      32.76   \n",
       "5931594  2022-07-06 00:00:00.000                      32.76   \n",
       "5931595  2022-07-06 00:00:00.000                      32.76   \n",
       "\n",
       "        kemendagri_kabupaten_nama        street           type  \\\n",
       "id                                                               \n",
       "5931593                KOTA DEPOK  Dewi Sartika    ROAD_CLOSED   \n",
       "5931594                KOTA DEPOK   Krukut Raya  WEATHERHAZARD   \n",
       "5931595                KOTA DEPOK           NaN            JAM   \n",
       "\n",
       "                                     avg_location  total_records        date  \n",
       "id                                                                            \n",
       "5931593  [106.81841149999966, -6.399794999999999]            240  2022-07-06  \n",
       "5931594  [106.79100399999993, -6.363434999999996]             60  2022-07-06  \n",
       "5931595          [106.783179, -6.443203999999998]             22  2022-07-06  "
      ]
     },
     "execution_count": 54,
     "metadata": {},
     "output_type": "execute_result"
    }
   ],
   "source": [
    "data_alerts.head(3)"
   ]
  },
  {
   "cell_type": "code",
   "execution_count": 55,
   "metadata": {},
   "outputs": [
    {
     "data": {
      "text/plain": [
       "(18040, 8)"
      ]
     },
     "execution_count": 55,
     "metadata": {},
     "output_type": "execute_result"
    }
   ],
   "source": [
    "data_alerts.shape"
   ]
  },
  {
   "cell_type": "code",
   "execution_count": 56,
   "metadata": {},
   "outputs": [
    {
     "name": "stdout",
     "output_type": "stream",
     "text": [
      "<class 'pandas.core.frame.DataFrame'>\n",
      "Int64Index: 18040 entries, 5931593 to 6221717\n",
      "Data columns (total 8 columns):\n",
      " #   Column                     Non-Null Count  Dtype  \n",
      "---  ------                     --------------  -----  \n",
      " 0   time                       18040 non-null  object \n",
      " 1   kemendagri_kabupaten_kode  18040 non-null  float64\n",
      " 2   kemendagri_kabupaten_nama  18040 non-null  object \n",
      " 3   street                     16746 non-null  object \n",
      " 4   type                       18040 non-null  object \n",
      " 5   avg_location               18040 non-null  object \n",
      " 6   total_records              18040 non-null  int64  \n",
      " 7   date                       18040 non-null  object \n",
      "dtypes: float64(1), int64(1), object(6)\n",
      "memory usage: 1.2+ MB\n"
     ]
    }
   ],
   "source": [
    "data_alerts.info()"
   ]
  },
  {
   "cell_type": "code",
   "execution_count": 57,
   "metadata": {},
   "outputs": [
    {
     "data": {
      "text/plain": [
       "time                            0\n",
       "kemendagri_kabupaten_kode       0\n",
       "kemendagri_kabupaten_nama       0\n",
       "street                       1294\n",
       "type                            0\n",
       "avg_location                    0\n",
       "total_records                   0\n",
       "date                            0\n",
       "dtype: int64"
      ]
     },
     "execution_count": 57,
     "metadata": {},
     "output_type": "execute_result"
    }
   ],
   "source": [
    "data_alerts.isnull().sum()"
   ]
  },
  {
   "cell_type": "markdown",
   "metadata": {
    "jp-MarkdownHeadingCollapsed": true,
    "tags": []
   },
   "source": [
    "## EDA"
   ]
  },
  {
   "cell_type": "markdown",
   "metadata": {
    "tags": []
   },
   "source": [
    "### Pusat Kemacetan"
   ]
  },
  {
   "cell_type": "markdown",
   "metadata": {},
   "source": [
    "Melihat Ketersediaan dataset"
   ]
  },
  {
   "cell_type": "code",
   "execution_count": 158,
   "metadata": {},
   "outputs": [
    {
     "name": "stdout",
     "output_type": "stream",
     "text": [
      "2022-07-06 00:00:00.000\n",
      "2022-09-06 00:00:00.000\n"
     ]
    }
   ],
   "source": [
    "print(data_jams.time.unique()[0])\n",
    "print(data_jams.time.unique()[-1])"
   ]
  },
  {
   "cell_type": "markdown",
   "metadata": {},
   "source": [
    "Dalam analisa ini, saya ingin melihat Kota Depok dari sudut pandang kemacetan yang terjadi di jalan-jalan depok serta irregularities yang mempengaruhi kemacetan-kemacetan tersebut berdasarkan rentang waktu 6 Juli 2022 ke 6 Agustus 2022"
   ]
  },
  {
   "cell_type": "code",
   "execution_count": 94,
   "metadata": {},
   "outputs": [
    {
     "data": {
      "text/html": [
       "<div>\n",
       "<style scoped>\n",
       "    .dataframe tbody tr th:only-of-type {\n",
       "        vertical-align: middle;\n",
       "    }\n",
       "\n",
       "    .dataframe tbody tr th {\n",
       "        vertical-align: top;\n",
       "    }\n",
       "\n",
       "    .dataframe thead th {\n",
       "        text-align: right;\n",
       "    }\n",
       "</style>\n",
       "<table border=\"1\" class=\"dataframe\">\n",
       "  <thead>\n",
       "    <tr style=\"text-align: right;\">\n",
       "      <th></th>\n",
       "      <th>median_delay</th>\n",
       "      <th>median_length</th>\n",
       "      <th>median_speed_kmh</th>\n",
       "    </tr>\n",
       "    <tr>\n",
       "      <th>street</th>\n",
       "      <th></th>\n",
       "      <th></th>\n",
       "      <th></th>\n",
       "    </tr>\n",
       "  </thead>\n",
       "  <tbody>\n",
       "    <tr>\n",
       "      <th>Abdul Gani 1</th>\n",
       "      <td>106.333333</td>\n",
       "      <td>234.222222</td>\n",
       "      <td>5.567778</td>\n",
       "    </tr>\n",
       "    <tr>\n",
       "      <th>Abdul Wahab</th>\n",
       "      <td>116.608317</td>\n",
       "      <td>802.208575</td>\n",
       "      <td>13.484794</td>\n",
       "    </tr>\n",
       "    <tr>\n",
       "      <th>Abdurrahman</th>\n",
       "      <td>128.037500</td>\n",
       "      <td>331.612500</td>\n",
       "      <td>5.989563</td>\n",
       "    </tr>\n",
       "    <tr>\n",
       "      <th>Acing</th>\n",
       "      <td>93.541667</td>\n",
       "      <td>305.041667</td>\n",
       "      <td>5.877083</td>\n",
       "    </tr>\n",
       "    <tr>\n",
       "      <th>Adhi Karya 2</th>\n",
       "      <td>295.250000</td>\n",
       "      <td>126.000000</td>\n",
       "      <td>1.580000</td>\n",
       "    </tr>\n",
       "    <tr>\n",
       "      <th>Akar Wangi 2</th>\n",
       "      <td>112.500000</td>\n",
       "      <td>152.000000</td>\n",
       "      <td>4.425000</td>\n",
       "    </tr>\n",
       "    <tr>\n",
       "      <th>Akar Wangi 4</th>\n",
       "      <td>109.250000</td>\n",
       "      <td>186.000000</td>\n",
       "      <td>5.455000</td>\n",
       "    </tr>\n",
       "    <tr>\n",
       "      <th>Akses Tol Cimanggis</th>\n",
       "      <td>135.773438</td>\n",
       "      <td>845.476562</td>\n",
       "      <td>16.410625</td>\n",
       "    </tr>\n",
       "    <tr>\n",
       "      <th>Akses Universitas Indonesia</th>\n",
       "      <td>143.067308</td>\n",
       "      <td>315.240385</td>\n",
       "      <td>6.898173</td>\n",
       "    </tr>\n",
       "    <tr>\n",
       "      <th>Al Barkah</th>\n",
       "      <td>77.142857</td>\n",
       "      <td>326.714286</td>\n",
       "      <td>8.252143</td>\n",
       "    </tr>\n",
       "  </tbody>\n",
       "</table>\n",
       "</div>"
      ],
      "text/plain": [
       "                             median_delay  median_length  median_speed_kmh\n",
       "street                                                                    \n",
       "Abdul Gani 1                   106.333333     234.222222          5.567778\n",
       "Abdul Wahab                    116.608317     802.208575         13.484794\n",
       "Abdurrahman                    128.037500     331.612500          5.989563\n",
       "Acing                           93.541667     305.041667          5.877083\n",
       "Adhi Karya 2                   295.250000     126.000000          1.580000\n",
       "Akar Wangi 2                   112.500000     152.000000          4.425000\n",
       "Akar Wangi 4                   109.250000     186.000000          5.455000\n",
       "Akses Tol Cimanggis            135.773438     845.476562         16.410625\n",
       "Akses Universitas Indonesia    143.067308     315.240385          6.898173\n",
       "Al Barkah                       77.142857     326.714286          8.252143"
      ]
     },
     "execution_count": 94,
     "metadata": {},
     "output_type": "execute_result"
    }
   ],
   "source": [
    "street_pv = pd.pivot_table(data_jams, \n",
    "                           values=['median_length','median_speed_kmh','median_delay'], \n",
    "                           index=['street'], \n",
    "                           aggfunc='mean')\n",
    "street_pv.sort_values(by='median_length', ascending=False)\n",
    "\n",
    "street_pv.head(10)"
   ]
  },
  {
   "cell_type": "code",
   "execution_count": 93,
   "metadata": {},
   "outputs": [
    {
     "data": {
      "text/html": [
       "<div>\n",
       "<style scoped>\n",
       "    .dataframe tbody tr th:only-of-type {\n",
       "        vertical-align: middle;\n",
       "    }\n",
       "\n",
       "    .dataframe tbody tr th {\n",
       "        vertical-align: top;\n",
       "    }\n",
       "\n",
       "    .dataframe thead th {\n",
       "        text-align: right;\n",
       "    }\n",
       "</style>\n",
       "<table border=\"1\" class=\"dataframe\">\n",
       "  <thead>\n",
       "    <tr style=\"text-align: right;\">\n",
       "      <th></th>\n",
       "      <th>median_delay_seconds</th>\n",
       "      <th>median_length</th>\n",
       "      <th>median_regular_speed</th>\n",
       "      <th>median_speed</th>\n",
       "    </tr>\n",
       "    <tr>\n",
       "      <th>street</th>\n",
       "      <th></th>\n",
       "      <th></th>\n",
       "      <th></th>\n",
       "      <th></th>\n",
       "    </tr>\n",
       "  </thead>\n",
       "  <tbody>\n",
       "    <tr>\n",
       "      <th>Abdul Wahab</th>\n",
       "      <td>488.258333</td>\n",
       "      <td>797.891667</td>\n",
       "      <td>19.599000</td>\n",
       "      <td>5.698333</td>\n",
       "    </tr>\n",
       "    <tr>\n",
       "      <th>Abdurrahman</th>\n",
       "      <td>429.000000</td>\n",
       "      <td>887.000000</td>\n",
       "      <td>12.567500</td>\n",
       "      <td>4.620000</td>\n",
       "    </tr>\n",
       "    <tr>\n",
       "      <th>Anggrek</th>\n",
       "      <td>411.333333</td>\n",
       "      <td>537.000000</td>\n",
       "      <td>20.726667</td>\n",
       "      <td>3.930000</td>\n",
       "    </tr>\n",
       "    <tr>\n",
       "      <th>Arah Tol Lkr Luar/TMII/Cawang</th>\n",
       "      <td>403.062500</td>\n",
       "      <td>617.062500</td>\n",
       "      <td>25.728750</td>\n",
       "      <td>6.399375</td>\n",
       "    </tr>\n",
       "    <tr>\n",
       "      <th>Arif Rahman Hakim</th>\n",
       "      <td>361.583333</td>\n",
       "      <td>619.023810</td>\n",
       "      <td>16.473929</td>\n",
       "      <td>5.821905</td>\n",
       "    </tr>\n",
       "    <tr>\n",
       "      <th>Bahagia</th>\n",
       "      <td>432.285714</td>\n",
       "      <td>693.285714</td>\n",
       "      <td>20.497857</td>\n",
       "      <td>5.601429</td>\n",
       "    </tr>\n",
       "    <tr>\n",
       "      <th>Bonang Raya</th>\n",
       "      <td>515.333333</td>\n",
       "      <td>815.083333</td>\n",
       "      <td>17.575417</td>\n",
       "      <td>4.917500</td>\n",
       "    </tr>\n",
       "    <tr>\n",
       "      <th>Bukit Cinere</th>\n",
       "      <td>486.100806</td>\n",
       "      <td>1095.125000</td>\n",
       "      <td>15.878105</td>\n",
       "      <td>6.688831</td>\n",
       "    </tr>\n",
       "    <tr>\n",
       "      <th>Bungur Raya</th>\n",
       "      <td>549.894558</td>\n",
       "      <td>606.102041</td>\n",
       "      <td>8.551054</td>\n",
       "      <td>3.754082</td>\n",
       "    </tr>\n",
       "    <tr>\n",
       "      <th>Cagar Alam Selatan</th>\n",
       "      <td>558.000000</td>\n",
       "      <td>562.000000</td>\n",
       "      <td>13.525000</td>\n",
       "      <td>3.000000</td>\n",
       "    </tr>\n",
       "  </tbody>\n",
       "</table>\n",
       "</div>"
      ],
      "text/plain": [
       "                               median_delay_seconds  median_length  \\\n",
       "street                                                               \n",
       "Abdul Wahab                              488.258333     797.891667   \n",
       "Abdurrahman                              429.000000     887.000000   \n",
       "Anggrek                                  411.333333     537.000000   \n",
       "Arah Tol Lkr Luar/TMII/Cawang            403.062500     617.062500   \n",
       "Arif Rahman Hakim                        361.583333     619.023810   \n",
       "Bahagia                                  432.285714     693.285714   \n",
       "Bonang Raya                              515.333333     815.083333   \n",
       "Bukit Cinere                             486.100806    1095.125000   \n",
       "Bungur Raya                              549.894558     606.102041   \n",
       "Cagar Alam Selatan                       558.000000     562.000000   \n",
       "\n",
       "                               median_regular_speed  median_speed  \n",
       "street                                                             \n",
       "Abdul Wahab                               19.599000      5.698333  \n",
       "Abdurrahman                               12.567500      4.620000  \n",
       "Anggrek                                   20.726667      3.930000  \n",
       "Arah Tol Lkr Luar/TMII/Cawang             25.728750      6.399375  \n",
       "Arif Rahman Hakim                         16.473929      5.821905  \n",
       "Bahagia                                   20.497857      5.601429  \n",
       "Bonang Raya                               17.575417      4.917500  \n",
       "Bukit Cinere                              15.878105      6.688831  \n",
       "Bungur Raya                                8.551054      3.754082  \n",
       "Cagar Alam Selatan                        13.525000      3.000000  "
      ]
     },
     "execution_count": 93,
     "metadata": {},
     "output_type": "execute_result"
    }
   ],
   "source": [
    "street_pv_irr = pd.pivot_table(data_irregularities, \n",
    "                           values=['median_length','median_speed','median_delay_seconds','median_regular_speed'], \n",
    "                           index=['street'], \n",
    "                           aggfunc='mean')\n",
    "street_pv_irr.sort_values(by='median_length', ascending=False)\n",
    "\n",
    "street_pv_irr.head(10)"
   ]
  },
  {
   "cell_type": "markdown",
   "metadata": {},
   "source": [
    "berdasarkan hasil pivot yang diberikan, dapat dilihat beberapa jalan utama yang telah menjadi pusat kemacetan di kota Depok"
   ]
  },
  {
   "cell_type": "markdown",
   "metadata": {
    "jp-MarkdownHeadingCollapsed": true,
    "tags": []
   },
   "source": [
    "### Alerts Analysis"
   ]
  },
  {
   "cell_type": "code",
   "execution_count": 160,
   "metadata": {},
   "outputs": [
    {
     "name": "stdout",
     "output_type": "stream",
     "text": [
      "2022-07-06 00:00:00.000\n",
      "2022-09-06 00:00:00.000\n"
     ]
    }
   ],
   "source": [
    "print(data_alerts.time.unique()[0])\n",
    "print(data_alerts.time.unique()[-1])"
   ]
  },
  {
   "cell_type": "code",
   "execution_count": 121,
   "metadata": {},
   "outputs": [
    {
     "data": {
      "text/plain": [
       "<AxesSubplot:xlabel='type', ylabel='count'>"
      ]
     },
     "execution_count": 121,
     "metadata": {},
     "output_type": "execute_result"
    },
    {
     "data": {
      "image/png": "[encoded data removed]",
      "text/plain": [
       "<Figure size 432x288 with 1 Axes>"
      ]
     },
     "metadata": {},
     "output_type": "display_data"
    }
   ],
   "source": [
    "sns.set(style=\"darkgrid\")\n",
    "sns.countplot(x='type', data=data_alerts)"
   ]
  },
  {
   "cell_type": "code",
   "execution_count": 122,
   "metadata": {},
   "outputs": [
    {
     "data": {
      "text/plain": [
       "<AxesSubplot:xlabel='type', ylabel='count'>"
      ]
     },
     "execution_count": 122,
     "metadata": {},
     "output_type": "execute_result"
    },
    {
     "data": {
      "image/png": "[encoded data removed]",
      "text/plain": [
       "<Figure size 432x288 with 1 Axes>"
      ]
     },
     "metadata": {},
     "output_type": "display_data"
    }
   ],
   "source": [
    "sns.countplot(x='type', data=data_alerts[data_alerts['street']=='Abdul Wahab'])"
   ]
  },
  {
   "cell_type": "code",
   "execution_count": 138,
   "metadata": {},
   "outputs": [
    {
     "data": {
      "text/html": [
       "<div>\n",
       "<style scoped>\n",
       "    .dataframe tbody tr th:only-of-type {\n",
       "        vertical-align: middle;\n",
       "    }\n",
       "\n",
       "    .dataframe tbody tr th {\n",
       "        vertical-align: top;\n",
       "    }\n",
       "\n",
       "    .dataframe thead th {\n",
       "        text-align: right;\n",
       "    }\n",
       "</style>\n",
       "<table border=\"1\" class=\"dataframe\">\n",
       "  <thead>\n",
       "    <tr style=\"text-align: right;\">\n",
       "      <th>type</th>\n",
       "      <th>ACCIDENT</th>\n",
       "      <th>JAM</th>\n",
       "      <th>ROAD_CLOSED</th>\n",
       "      <th>WEATHERHAZARD</th>\n",
       "    </tr>\n",
       "    <tr>\n",
       "      <th>street</th>\n",
       "      <th></th>\n",
       "      <th></th>\n",
       "      <th></th>\n",
       "      <th></th>\n",
       "    </tr>\n",
       "  </thead>\n",
       "  <tbody>\n",
       "    <tr>\n",
       "      <th>Abdul Gani 1</th>\n",
       "      <td>NaN</td>\n",
       "      <td>12.0</td>\n",
       "      <td>NaN</td>\n",
       "      <td>NaN</td>\n",
       "    </tr>\n",
       "    <tr>\n",
       "      <th>Abdul Wahab</th>\n",
       "      <td>149.0</td>\n",
       "      <td>1354.0</td>\n",
       "      <td>NaN</td>\n",
       "      <td>1806.0</td>\n",
       "    </tr>\n",
       "    <tr>\n",
       "      <th>Abdurrahman</th>\n",
       "      <td>NaN</td>\n",
       "      <td>59.0</td>\n",
       "      <td>NaN</td>\n",
       "      <td>NaN</td>\n",
       "    </tr>\n",
       "  </tbody>\n",
       "</table>\n",
       "</div>"
      ],
      "text/plain": [
       "type          ACCIDENT     JAM  ROAD_CLOSED  WEATHERHAZARD\n",
       "street                                                    \n",
       "Abdul Gani 1       NaN    12.0          NaN            NaN\n",
       "Abdul Wahab      149.0  1354.0          NaN         1806.0\n",
       "Abdurrahman        NaN    59.0          NaN            NaN"
      ]
     },
     "execution_count": 138,
     "metadata": {},
     "output_type": "execute_result"
    }
   ],
   "source": [
    "alerts_pv = pd.pivot_table(data_alerts, \n",
    "                           values='total_records', \n",
    "                           columns='type',\n",
    "                           index=['street'], \n",
    "                           aggfunc='sum')\n",
    "\n",
    "# street_pv_irr.sort_values(by='ACCIDENT', ascending=False)\n",
    "\n",
    "alerts_pv.head(3)"
   ]
  },
  {
   "cell_type": "code",
   "execution_count": 142,
   "metadata": {},
   "outputs": [
    {
     "data": {
      "text/plain": [
       "street\n",
       "Tol Jagorawi           1593.0\n",
       "Jeruk                   843.0\n",
       "Muhtar Raya             688.0\n",
       "Anggrek 20              458.0\n",
       "Jalan Raya Bogor        364.0\n",
       "Tanah Baru              354.0\n",
       "N8 Jalan Raya Bogor     328.0\n",
       "Sawangan Raya           319.0\n",
       "Citayam Raya            303.0\n",
       "Ir H Juanda             270.0\n",
       "Name: ACCIDENT, dtype: float64"
      ]
     },
     "execution_count": 142,
     "metadata": {},
     "output_type": "execute_result"
    }
   ],
   "source": [
    "alerts_pv['ACCIDENT'].sort_values(ascending=False).head(10)"
   ]
  },
  {
   "cell_type": "code",
   "execution_count": 143,
   "metadata": {},
   "outputs": [
    {
     "data": {
      "text/plain": [
       "street\n",
       "Dewi Sartika    346252.0\n",
       "Krukut Raya      73206.0\n",
       "Mahoni              42.0\n",
       "Gandul Raya         41.0\n",
       "Pemuda              26.0\n",
       "Abdul Gani 1         NaN\n",
       "Abdul Wahab          NaN\n",
       "Abdurrahman          NaN\n",
       "Acing                NaN\n",
       "Adhi Karya           NaN\n",
       "Name: ROAD_CLOSED, dtype: float64"
      ]
     },
     "execution_count": 143,
     "metadata": {},
     "output_type": "execute_result"
    }
   ],
   "source": [
    "alerts_pv['ROAD_CLOSED'].sort_values(ascending=False).head(10)"
   ]
  },
  {
   "cell_type": "code",
   "execution_count": 144,
   "metadata": {},
   "outputs": [
    {
     "data": {
      "text/plain": [
       "street\n",
       "Tol Jagorawi             33953.0\n",
       "Karanggan                14763.0\n",
       "Anggrek 20               10695.0\n",
       "PLN Gandul                6812.0\n",
       "Ir H Juanda               6724.0\n",
       "Vila Pertiwi              5389.0\n",
       "Pangkalan Jati            5208.0\n",
       "Sawangan Elok             4614.0\n",
       "Jalan SDN 06 Kalibaru     4424.0\n",
       "Kota Kembang Raya         3232.0\n",
       "Name: WEATHERHAZARD, dtype: float64"
      ]
     },
     "execution_count": 144,
     "metadata": {},
     "output_type": "execute_result"
    }
   ],
   "source": [
    "alerts_pv['WEATHERHAZARD'].sort_values(ascending=False).head(10)"
   ]
  },
  {
   "cell_type": "markdown",
   "metadata": {},
   "source": [
    "## Preprocessing Dataset"
   ]
  },
  {
   "cell_type": "markdown",
   "metadata": {},
   "source": [
    "Untuk melakukan preprocessing, dataset yang akan digunakan merupakand data_jams dan data_alerts yang digunakan untuk melakukan forecasting kemacetan pada 10 ruas jalan yang sering mengalami kemacetan berdasarkan hasil pivot data_jams"
   ]
  },
  {
   "cell_type": "markdown",
   "metadata": {},
   "source": [
    "### Join Dataset"
   ]
  },
  {
   "cell_type": "code",
   "execution_count": null,
   "metadata": {},
   "outputs": [],
   "source": []
  },
  {
   "cell_type": "code",
   "execution_count": null,
   "metadata": {},
   "outputs": [],
   "source": []
  },
  {
   "cell_type": "code",
   "execution_count": null,
   "metadata": {},
   "outputs": [],
   "source": []
  },
  {
   "cell_type": "code",
   "execution_count": null,
   "metadata": {},
   "outputs": [],
   "source": []
  },
  {
   "cell_type": "code",
   "execution_count": null,
   "metadata": {},
   "outputs": [],
   "source": []
  },
  {
   "cell_type": "markdown",
   "metadata": {},
   "source": [
    "### Filter Dataset"
   ]
  },
  {
   "cell_type": "code",
   "execution_count": null,
   "metadata": {},
   "outputs": [],
   "source": []
  },
  {
   "cell_type": "code",
   "execution_count": null,
   "metadata": {},
   "outputs": [],
   "source": []
  },
  {
   "cell_type": "code",
   "execution_count": null,
   "metadata": {},
   "outputs": [],
   "source": []
  },
  {
   "cell_type": "code",
   "execution_count": null,
   "metadata": {},
   "outputs": [],
   "source": []
  },
  {
   "cell_type": "code",
   "execution_count": null,
   "metadata": {},
   "outputs": [],
   "source": []
  },
  {
   "cell_type": "code",
   "execution_count": null,
   "metadata": {},
   "outputs": [],
   "source": []
  },
  {
   "cell_type": "code",
   "execution_count": null,
   "metadata": {},
   "outputs": [],
   "source": []
  },
  {
   "cell_type": "code",
   "execution_count": null,
   "metadata": {},
   "outputs": [],
   "source": []
  }
 ],
 "metadata": {
  "kernelspec": {
   "display_name": "Python 3 (ipykernel)",
   "language": "python",
   "name": "python3"
  },
  "language_info": {
   "codemirror_mode": {
    "name": "ipython",
    "version": 3
   },
   "file_extension": ".py",
   "mimetype": "text/x-python",
   "name": "python",
   "nbconvert_exporter": "python",
   "pygments_lexer": "ipython3",
   "version": "3.9.12"
  }
 },
 "nbformat": 4,
 "nbformat_minor": 4
}
